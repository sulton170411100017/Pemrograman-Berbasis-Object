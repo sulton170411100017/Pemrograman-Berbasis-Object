{
 "cells": [
  {
   "cell_type": "code",
   "execution_count": null,
   "metadata": {},
   "outputs": [],
   "source": [
    "#CLASS VS OBJECT\n",
    "\n",
    "#CLASS:\n",
    "#adalah Class mendefinisikan Object.\n",
    "#Yang didefinisikan oleh Class tentu saja adalah keadaan dan kelakuan yang akan dimiliki oleh object tersebut\n",
    "#Prototipe yang ditentukan pengguna untuk objek yang mendefinisikan seperangkat atribut yang menjadi ciri objek kelas apa pun. \n",
    "#Atribut adalah data anggota (variabel kelas dan variabel contoh) dan metode, diakses melalui notasi titik.\n",
    "#CLASS VARIABEL:\n",
    "#Sebuah variabel yang dibagi oleh semua contoh kelas. Variabel kelas didefinisikan dalam kelas tapi di luar metode kelas manapun.\n",
    "#Variabel kelas tidak digunakan sesering variabel contoh\n",
    "\n",
    "\n",
    "#OBJECT:\n",
    "#Object adalah sebuah entitas yang memiliki keadaan dan kelakuan.\n",
    "#Contoh unik dari struktur data yang didefinisikan oleh kelasnya.\n",
    "#Objek terdiri dari kedua anggota data (variabel kelas dan variabel contoh) dan metode.\n"
   ]
  },
  {
   "cell_type": "code",
   "execution_count": null,
   "metadata": {},
   "outputs": [],
   "source": [
    "class Kubus:\n",
    "    def __init__(self,s):\n",
    "        self.sisi = s\n",
    "    def tampilkansisi(self):\n",
    "        print(self.sisi)\n",
    "    def luas (self):\n",
    "        print (\"luas=\",self.sisi**2)\n",
    "    def volum(self):\n",
    "        print (\"volume=\", self.sisi**3)\n",
    "    def Luaspermukaan(self):\n",
    "        print (\"Luas Permukaan=\", self.sisi*6)\n",
    "Kubus1= Kubus(4)\n",
    "Kubus1.tampilkansisi()\n",
    "Kubus1.luas()\n",
    "Kubus1.volum()\n",
    "Kubus1.Luaspermukaan()\n",
    "\n",
    "class pegawai:\n",
    "    def __init__(self,n,j,g):\n",
    "        self.nama=n\n",
    "        self.jabatan=j\n",
    "        self.gaji=g\n",
    "    def tampilkan(self):\n",
    "        print(self.nama,\",\",self.jabatan,\"dan\",self.gaji*10)\n",
    "\n",
    "p1=pegawai(\"Adi\",\"boss\",1000)\n",
    "p1.tampilkan()\n",
    "\n"
   ]
  }
 ],
 "metadata": {
  "kernelspec": {
   "display_name": "Python 3",
   "language": "python",
   "name": "python3"
  },
  "language_info": {
   "codemirror_mode": {
    "name": "ipython",
    "version": 3
   },
   "file_extension": ".py",
   "mimetype": "text/x-python",
   "name": "python",
   "nbconvert_exporter": "python",
   "pygments_lexer": "ipython3",
   "version": "3.7.0"
  }
 },
 "nbformat": 4,
 "nbformat_minor": 2
}
