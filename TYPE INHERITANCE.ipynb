{
 "cells": [
  {
   "cell_type": "code",
   "execution_count": null,
   "metadata": {},
   "outputs": [],
   "source": [
    "#TYPE\n",
    "#1. DEFAULT(pass) adalah yang mewarisi semua dari induk class\n",
    "#2. OVERRIDING adalah ketika suatu class child yang turunan dari class parent. mempunyai beberapa method dengan nama yang sama dengan yang di punya si parent . tetapi dengan implementasi yang berbeda\n",
    "#3. SUPER adalah class yang mewarisi sifat kepada subclass sedangkan subclass adalah class yang diwarisi sifat oleh superclass.\n",
    "#4. MULTIPLE INHERITANCE adalah yang mempunyai 2 induk class atau lebih"
   ]
  },
  {
   "cell_type": "code",
   "execution_count": 1,
   "metadata": {},
   "outputs": [
    {
     "name": "stdout",
     "output_type": "stream",
     "text": [
      "sulton Fish\n",
      "bone\n",
      "False\n",
      "The fish is swimming.\n",
      "The fish can swim backwards.\n"
     ]
    }
   ],
   "source": [
    "#1. DEFAULT\n",
    "class Fish: \n",
    "\tdef __init__(self, first_name, last_name=\"Fish\", skeleton=\"bone\", eyelids=False): \n",
    "\t\tself.first_name = first_name \n",
    "\t\tself.last_name = last_name \n",
    "\t\tself.skeleton = skeleton \n",
    "\t\tself.eyelids = eyelids \n",
    "\tdef swim(self): \n",
    "\t\tprint(\"The fish is swimming.\") \n",
    "\tdef swim_backwards(self): \n",
    "\t\tprint(\"The fish can swim backwards.\")\n",
    "class Trout(Fish):\n",
    "\t pass \n",
    "terry = Trout(\"sulton\") \n",
    "print(terry.first_name + \" \" + terry.last_name) \n",
    "print(terry.skeleton) \n",
    "print(terry.eyelids) \n",
    "terry.swim() \n",
    "terry.swim_backwards() "
   ]
  },
  {
   "cell_type": "code",
   "execution_count": 16,
   "metadata": {},
   "outputs": [
    {
     "name": "stdout",
     "output_type": "stream",
     "text": [
      "sulton darmawan\n",
      "sulton aji darmawan\n",
      "darmawan aji\n",
      "170411100017\n"
     ]
    }
   ],
   "source": [
    "#2. OVERRIDING\n",
    "class Fish: \n",
    "\tdef __init__(self, first_name, last_name=\"darmawan\", skeleton=\"bone\", eyelids=False): \n",
    "\t\tself.first_name = first_name \n",
    "\t\tself.last_name = last_name \n",
    "\t\tself.skeleton = skeleton \n",
    "\t\tself.eyelids = eyelids  \n",
    "\tdef swim_backwards(self): \n",
    "\t\tprint(\"sulton aji darmawan\") \n",
    "class Shark(Fish): \n",
    "\tdef __init__(self, first_name, last_name=\"aji\", skeleton=\"cartilage\", eyelids=True): \n",
    "\t\tself.first_name = first_name \n",
    "\t\tself.last_name = last_name \n",
    "\t\tself.skeleton = skeleton \n",
    "\t\tself.eyelids = eyelids \n",
    "\tdef swim_backwards(self): \n",
    "\t\tprint(\"170411100017\") \n",
    "over = Fish(\"sulton\")\n",
    "print(over.first_name+ \" \" +over.last_name)\n",
    "over.swim_backwards()\n",
    "overi = Shark(\"darmawan\")\n",
    "print(overi.first_name+ \" \" +overi.last_name)\n",
    "overi.swim_backwards()"
   ]
  },
  {
   "cell_type": "code",
   "execution_count": 25,
   "metadata": {},
   "outputs": [
    {
     "name": "stdout",
     "output_type": "stream",
     "text": [
      "sulton aji darmawan\n",
      "170411100017\n",
      "TEKNIK INFORMATIKA\n"
     ]
    }
   ],
   "source": [
    "#3. super\n",
    "class sulton:\n",
    "    def __init__(self,name):\n",
    "        self.name = name\n",
    "    def tampil(self):\n",
    "        print(self.name)\n",
    "class aji(sulton):\n",
    "    def __init__(self,name,nim):\n",
    "        self.nim = nim\n",
    "        sulton. __init__(self,name)\n",
    "    def tampil(self):\n",
    "        print(self.nim)\n",
    "class darmawan(sulton):\n",
    "    def __init__(self,name,jurusan):\n",
    "        self.jurusan= jurusan\n",
    "        super(). __init__(name)\n",
    "    def tampil(self):\n",
    "        print(self.jurusan)\n",
    "        \n",
    "s = sulton(\"sulton aji darmawan\")\n",
    "s.tampil()\n",
    "a = aji(\"sulton aji darmawan\",170411100017)\n",
    "a.tampil()       \n",
    "d = darmawan(\"sulton aji darmawan\",\"TEKNIK INFORMATIKA\") \n",
    "d.tampil()\n",
    "        \n",
    "        \n",
    "        "
   ]
  },
  {
   "cell_type": "code",
   "execution_count": 26,
   "metadata": {},
   "outputs": [
    {
     "name": "stdout",
     "output_type": "stream",
     "text": [
      "ini adalah method A\n",
      "ini adalah method B\n"
     ]
    }
   ],
   "source": [
    "#4. multiple inheritance\n",
    "class A:\n",
    "\tdef method_A(self):\n",
    "\t\tprint(\"ini adalah method A\")\n",
    "\n",
    "class B:\n",
    "\tdef method_B(self):\n",
    "\t\tprint(\"ini adalah method B\")\n",
    "class C(A,B):\n",
    "\tpass\n",
    "objek = C()\n",
    "\n",
    "objek.method_A()\n",
    "objek.method_B()"
   ]
  },
  {
   "cell_type": "code",
   "execution_count": null,
   "metadata": {},
   "outputs": [],
   "source": []
  }
 ],
 "metadata": {
  "kernelspec": {
   "display_name": "Python 3",
   "language": "python",
   "name": "python3"
  },
  "language_info": {
   "codemirror_mode": {
    "name": "ipython",
    "version": 3
   },
   "file_extension": ".py",
   "mimetype": "text/x-python",
   "name": "python",
   "nbconvert_exporter": "python",
   "pygments_lexer": "ipython3",
   "version": "3.7.0"
  }
 },
 "nbformat": 4,
 "nbformat_minor": 2
}
