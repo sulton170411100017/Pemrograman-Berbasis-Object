{
 "cells": [
  {
   "cell_type": "code",
   "execution_count": null,
   "metadata": {},
   "outputs": [],
   "source": [
    "#ENCAPSULATION\n",
    "#Enkapsulasi dalam pemrograman adalah pengkombinasian/pembungkusan antara data dan prosedur ataupun fungsi (method) \n",
    "#yang memanipulasinya ke dalam sebuah object pada bagian yang terlindungi sehingga data-datanya tidak mudah diakses langsung \n",
    "#dari luar. Manfaat dari enkapsulasi ialah kode sumber dari sebuah object dapat dikelola secara independen dari kode object\n",
    "#yang lain. Selain itu, dengan enkapsulasi kita bisa menyembunyikan informasi-informasi yang tidak perlu diketahui oleh object\n",
    "#lain. Enkapsulasi merupakan salah satu karakteristik utama dalam konsep OOP.\n",
    "\n",
    "#private method\n",
    "#Penunjukan private hanya memungkinkan variabel atau method yang akan diakses dari dalam class atau objeknya sendiri.\n",
    "#Anda tidak dapat mengubah nilai private variabel dari luar kelas. \n",
    "#Private variabel dan private method didahului oleh dua garis bawah. Lihatlah contoh di bawah ini.\n",
    "\n",
    "#private variabel\n",
    "#Variabel dapat bersifat pribadi yang dapat berguna pada banyak kesempatan. \n",
    "#Variabel privat hanya dapat diubah dalam method class dan bukan di luar class."
   ]
  },
  {
   "cell_type": "code",
   "execution_count": 1,
   "metadata": {},
   "outputs": [
    {
     "name": "stdout",
     "output_type": "stream",
     "text": [
      "maxspeed 100\n",
      "maxspeed 320\n"
     ]
    }
   ],
   "source": [
    "class Hero:\n",
    "    __maxspeed = 0\n",
    "    __name = \"\"\n",
    " \n",
    "    def __init__(self):\n",
    "        self.__maxspeed = 100\n",
    "        self.__name = \"SuperHro\"\n",
    " \n",
    "    def drive(self):\n",
    "        print ('maxspeed ' + str(self.__maxspeed))\n",
    " \n",
    "    def setMaxSpeed(self,speed):\n",
    "        self.__maxspeed = speed\n",
    " \n",
    "redcar = Hero()\n",
    "redcar.drive()\n",
    "redcar.setMaxSpeed(320)\n",
    "redcar.drive()\n"
   ]
  },
  {
   "cell_type": "code",
   "execution_count": 2,
   "metadata": {},
   "outputs": [
    {
     "name": "stdout",
     "output_type": "stream",
     "text": [
      "earthshaker\n",
      "earthshaker\n",
      "50\n",
      "45\n"
     ]
    }
   ],
   "source": [
    "class Hero:\n",
    "    def __init__(self,name,health,attackPower):\n",
    "\t    self.__name = name\n",
    "\t    self.__health = health\n",
    "\t    self.__attPower = attackPower\n",
    "\t\t\n",
    "    def getName(self):\n",
    "\t    return self.__name\n",
    "\n",
    "    def getHealth(self):\n",
    "\t    return self.__health\n",
    "\n",
    "    def diserang(self,serangPower):\n",
    "\t    self.__health -= serangPower\n",
    "\n",
    "    def setAttPower(self,nilaibaru):\n",
    "\t    self.__attPower = nilaibaru\n",
    "\t    \n",
    "    def __jumlah(self):\n",
    "            print(self.__name)\n",
    "\n",
    "earthshaker = Hero(\"earthshaker\",50, 5)\n",
    "earthshaker._Hero__jumlah()\n",
    "print(earthshaker.getName())\n",
    "print(earthshaker.getHealth())\n",
    "earthshaker.diserang(5)\n",
    "print(earthshaker.getHealth())\n"
   ]
  },
  {
   "cell_type": "code",
   "execution_count": null,
   "metadata": {},
   "outputs": [],
   "source": []
  }
 ],
 "metadata": {
  "kernelspec": {
   "display_name": "Python 3",
   "language": "python",
   "name": "python3"
  },
  "language_info": {
   "codemirror_mode": {
    "name": "ipython",
    "version": 3
   },
   "file_extension": ".py",
   "mimetype": "text/x-python",
   "name": "python",
   "nbconvert_exporter": "python",
   "pygments_lexer": "ipython3",
   "version": "3.7.0"
  }
 },
 "nbformat": 4,
 "nbformat_minor": 2
}
