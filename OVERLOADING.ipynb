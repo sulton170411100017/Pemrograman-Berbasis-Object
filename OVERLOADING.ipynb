{
 "cells": [
  {
   "cell_type": "code",
   "execution_count": null,
   "metadata": {},
   "outputs": [],
   "source": [
    "#overloading\n",
    "#Overloading adalah sebuah kemampuan yang membolehkan sebuah class mempunyai 2 atau lebih method dengan nama yang sama,\n",
    "#yang membedakan adalah parameternya.\n",
    "#dan itu hanya berlaku pada bahasa pemrograman selain python.\n",
    "#kalau di python dia akan hanya membaca satu jadi python hanya bisa menggunakan 1 method yang sama"
   ]
  },
  {
   "cell_type": "code",
   "execution_count": 3,
   "metadata": {},
   "outputs": [
    {
     "name": "stdout",
     "output_type": "stream",
     "text": [
      "first method\n"
     ]
    }
   ],
   "source": [
    "class A:\n",
    "    def stackoverflow(self):    \n",
    "        print ('first method')\n",
    "    def stackoverflow(self, i):\n",
    "        print ('second method', i)\n",
    "\n",
    "ob=A()\n",
    "ob.stackoverflow()"
   ]
  },
  {
   "cell_type": "code",
   "execution_count": null,
   "metadata": {},
   "outputs": [],
   "source": []
  }
 ],
 "metadata": {
  "kernelspec": {
   "display_name": "Python 3",
   "language": "python",
   "name": "python3"
  },
  "language_info": {
   "codemirror_mode": {
    "name": "ipython",
    "version": 3
   },
   "file_extension": ".py",
   "mimetype": "text/x-python",
   "name": "python",
   "nbconvert_exporter": "python",
   "pygments_lexer": "ipython3",
   "version": "3.7.0"
  }
 },
 "nbformat": 4,
 "nbformat_minor": 2
}
