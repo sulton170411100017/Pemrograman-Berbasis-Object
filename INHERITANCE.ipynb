{
 "cells": [
  {
   "cell_type": "code",
   "execution_count": null,
   "metadata": {},
   "outputs": [],
   "source": [
    "#INHERITANCE\n",
    "#Inheritance atau Pewarisan/Penurunan adalah konsep pemrograman dimana sebuah \n",
    "#class dapat ‘menurunkan’ property dan method yang dimilikinya kepada class lain.\n",
    "#Konsep inheritance digunakan untuk memanfaatkan fitur ‘code reuse’ untuk menghindari duplikasi kode program.\n",
    "\n",
    "#Konsep inheritance membuat sebuah struktur  class dalam kode program. Class yang akan ‘diturunkan’ bisa disebut\n",
    "#sebagai class induk (parent class), super class, atau base class. Sedangkan class yang ‘menerima penurunan’ \n",
    "#bisa disebut sebagai class anak (child class), sub class, derived class atauheir class.\n",
    "\n",
    "#Tidak semua property dan method dari class induk akan diturunkan. Property dan method dengan hak akses private, \n",
    "#tidak akan diturunkan kepada class anak. Hanya property dan method dengan hak akses protected dan public saja yang bisa diakses\n",
    "#dari class anak"
   ]
  },
  {
   "cell_type": "code",
   "execution_count": 11,
   "metadata": {},
   "outputs": [
    {
     "name": "stdout",
     "output_type": "stream",
     "text": [
      "sulton Fish\n",
      "bone\n",
      "False\n",
      "The fish is swimming.\n",
      "The fish can swim backwards.\n"
     ]
    }
   ],
   "source": [
    "class Fish: \n",
    "\tdef __init__(self, first_name, last_name=\"Fish\", skeleton=\"bone\", eyelids=False): \n",
    "\t\tself.first_name = first_name \n",
    "\t\tself.last_name = last_name \n",
    "\t\tself.skeleton = skeleton \n",
    "\t\tself.eyelids = eyelids \n",
    "\tdef swim(self): \n",
    "\t\tprint(\"The fish is swimming.\") \n",
    "\tdef swim_backwards(self): \n",
    "\t\tprint(\"The fish can swim backwards.\") \n",
    "class Clownfish(Fish): \n",
    "\tdef live_with_anemone(self): \n",
    "\t\tprint(\"The clownfish is coexisting with sea anemone.\") \n",
    "class Trout(Fish):\n",
    "\t pass \n",
    "terry = Trout(\"sulton\") \n",
    "print(terry.first_name + \" \" + terry.last_name) \n",
    "print(terry.skeleton) \n",
    "print(terry.eyelids) \n",
    "terry.swim() \n",
    "terry.swim_backwards() \n",
    "\n"
   ]
  },
  {
   "cell_type": "code",
   "execution_count": null,
   "metadata": {},
   "outputs": [],
   "source": []
  },
  {
   "cell_type": "code",
   "execution_count": null,
   "metadata": {},
   "outputs": [],
   "source": []
  },
  {
   "cell_type": "code",
   "execution_count": null,
   "metadata": {},
   "outputs": [],
   "source": []
  }
 ],
 "metadata": {
  "kernelspec": {
   "display_name": "Python 3",
   "language": "python",
   "name": "python3"
  },
  "language_info": {
   "codemirror_mode": {
    "name": "ipython",
    "version": 3
   },
   "file_extension": ".py",
   "mimetype": "text/x-python",
   "name": "python",
   "nbconvert_exporter": "python",
   "pygments_lexer": "ipython3",
   "version": "3.7.0"
  }
 },
 "nbformat": 4,
 "nbformat_minor": 2
}
