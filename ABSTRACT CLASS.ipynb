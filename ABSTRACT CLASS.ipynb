{
 "cells": [
  {
   "cell_type": "code",
   "execution_count": null,
   "metadata": {},
   "outputs": [],
   "source": [
    "#Abstract Class adalah sebuah class yang tidak bisa dibuat menjadi objek dan berperan sebagai ‘kerangka dasar’\n",
    "#bagi class turunannya. Di dalam abstract class umumnya akan memiliki abstract method.\n",
    "\n",
    "#Abstract Method adalah sebuah ‘method dasar’ yang harus diimplementasikan ulang di dalam class anak (child class).\n",
    "#Abstract method ditulis tanpa isi dari method, melainkan hanya terdiri dari nama method dan parameternya (jika ada)."
   ]
  },
  {
   "cell_type": "code",
   "execution_count": null,
   "metadata": {},
   "outputs": [],
   "source": [
    "class Button:#abstract class\n",
    "   \n",
    "\tdef click(self):\n",
    "\t\tpass\n",
    "\n",
    "class PushButton(Button):\n",
    "\t\n",
    "\tdef click(self):\n",
    "\t\tprint(\"push button click\")\n",
    "\n",
    "class RadioButton(Button):\n",
    "\n",
    "\tdef click(self):\n",
    "\t\tprint(\"radio button click\")\n",
    "\t\n",
    "\n",
    "tombol1 = PushButton()\n",
    "tombol2 = RadioButton()\n",
    "\n",
    "tombol1.click()\n",
    "tombol2.click()"
   ]
  }
 ],
 "metadata": {
  "kernelspec": {
   "display_name": "Python 3",
   "language": "python",
   "name": "python3"
  },
  "language_info": {
   "codemirror_mode": {
    "name": "ipython",
    "version": 3
   },
   "file_extension": ".py",
   "mimetype": "text/x-python",
   "name": "python",
   "nbconvert_exporter": "python",
   "pygments_lexer": "ipython3",
   "version": "3.7.0"
  }
 },
 "nbformat": 4,
 "nbformat_minor": 2
}
